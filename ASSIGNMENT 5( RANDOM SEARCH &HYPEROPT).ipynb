{
 "cells": [
  {
   "cell_type": "code",
   "execution_count": 1,
   "id": "9c525116",
   "metadata": {},
   "outputs": [],
   "source": [
    "#import all libraries"
   ]
  },
  {
   "cell_type": "code",
   "execution_count": 2,
   "id": "ddca9d2e",
   "metadata": {},
   "outputs": [],
   "source": [
    "import pandas as pd\n",
    "from sklearn.model_selection import train_test_split\n",
    "from sklearn.svm import SVC\n",
    "from sklearn.metrics import accuracy_score\n",
    "from sklearn.metrics import classification_report, confusion_matrix\n",
    "from sklearn.model_selection import KFold\n",
    "from sklearn.model_selection import cross_val_score\n",
    "from sklearn import svm\n",
    "from sklearn.model_selection import RandomizedSearchCV\n",
    "from hyperopt import tpe, hp, fmin, STATUS_OK,Trials"
   ]
  },
  {
   "cell_type": "code",
   "execution_count": 3,
   "id": "b62ecf59",
   "metadata": {},
   "outputs": [],
   "source": [
    "#Load titanic.csv file."
   ]
  },
  {
   "cell_type": "code",
   "execution_count": 4,
   "id": "1e277e98",
   "metadata": {},
   "outputs": [],
   "source": [
    "df=pd.read_csv('titanic.csv')"
   ]
  },
  {
   "cell_type": "code",
   "execution_count": 5,
   "id": "fcf573d2",
   "metadata": {},
   "outputs": [
    {
     "data": {
      "text/html": [
       "<div>\n",
       "<style scoped>\n",
       "    .dataframe tbody tr th:only-of-type {\n",
       "        vertical-align: middle;\n",
       "    }\n",
       "\n",
       "    .dataframe tbody tr th {\n",
       "        vertical-align: top;\n",
       "    }\n",
       "\n",
       "    .dataframe thead th {\n",
       "        text-align: right;\n",
       "    }\n",
       "</style>\n",
       "<table border=\"1\" class=\"dataframe\">\n",
       "  <thead>\n",
       "    <tr style=\"text-align: right;\">\n",
       "      <th></th>\n",
       "      <th>PassengerId</th>\n",
       "      <th>Survived</th>\n",
       "      <th>Pclass</th>\n",
       "      <th>Name</th>\n",
       "      <th>Sex</th>\n",
       "      <th>Age</th>\n",
       "      <th>SibSp</th>\n",
       "      <th>Parch</th>\n",
       "      <th>Ticket</th>\n",
       "      <th>Fare</th>\n",
       "      <th>Cabin</th>\n",
       "      <th>Embarked</th>\n",
       "    </tr>\n",
       "  </thead>\n",
       "  <tbody>\n",
       "    <tr>\n",
       "      <th>0</th>\n",
       "      <td>1</td>\n",
       "      <td>0</td>\n",
       "      <td>3</td>\n",
       "      <td>Braund, Mr. Owen Harris</td>\n",
       "      <td>male</td>\n",
       "      <td>22.0</td>\n",
       "      <td>1</td>\n",
       "      <td>0</td>\n",
       "      <td>A/5 21171</td>\n",
       "      <td>7.2500</td>\n",
       "      <td>NaN</td>\n",
       "      <td>S</td>\n",
       "    </tr>\n",
       "    <tr>\n",
       "      <th>1</th>\n",
       "      <td>2</td>\n",
       "      <td>1</td>\n",
       "      <td>1</td>\n",
       "      <td>Cumings, Mrs. John Bradley (Florence Briggs Th...</td>\n",
       "      <td>female</td>\n",
       "      <td>38.0</td>\n",
       "      <td>1</td>\n",
       "      <td>0</td>\n",
       "      <td>PC 17599</td>\n",
       "      <td>71.2833</td>\n",
       "      <td>C85</td>\n",
       "      <td>C</td>\n",
       "    </tr>\n",
       "    <tr>\n",
       "      <th>2</th>\n",
       "      <td>3</td>\n",
       "      <td>1</td>\n",
       "      <td>3</td>\n",
       "      <td>Heikkinen, Miss. Laina</td>\n",
       "      <td>female</td>\n",
       "      <td>26.0</td>\n",
       "      <td>0</td>\n",
       "      <td>0</td>\n",
       "      <td>STON/O2. 3101282</td>\n",
       "      <td>7.9250</td>\n",
       "      <td>NaN</td>\n",
       "      <td>S</td>\n",
       "    </tr>\n",
       "    <tr>\n",
       "      <th>3</th>\n",
       "      <td>4</td>\n",
       "      <td>1</td>\n",
       "      <td>1</td>\n",
       "      <td>Futrelle, Mrs. Jacques Heath (Lily May Peel)</td>\n",
       "      <td>female</td>\n",
       "      <td>35.0</td>\n",
       "      <td>1</td>\n",
       "      <td>0</td>\n",
       "      <td>113803</td>\n",
       "      <td>53.1000</td>\n",
       "      <td>C123</td>\n",
       "      <td>S</td>\n",
       "    </tr>\n",
       "    <tr>\n",
       "      <th>4</th>\n",
       "      <td>5</td>\n",
       "      <td>0</td>\n",
       "      <td>3</td>\n",
       "      <td>Allen, Mr. William Henry</td>\n",
       "      <td>male</td>\n",
       "      <td>35.0</td>\n",
       "      <td>0</td>\n",
       "      <td>0</td>\n",
       "      <td>373450</td>\n",
       "      <td>8.0500</td>\n",
       "      <td>NaN</td>\n",
       "      <td>S</td>\n",
       "    </tr>\n",
       "  </tbody>\n",
       "</table>\n",
       "</div>"
      ],
      "text/plain": [
       "   PassengerId  Survived  Pclass  \\\n",
       "0            1         0       3   \n",
       "1            2         1       1   \n",
       "2            3         1       3   \n",
       "3            4         1       1   \n",
       "4            5         0       3   \n",
       "\n",
       "                                                Name     Sex   Age  SibSp  \\\n",
       "0                            Braund, Mr. Owen Harris    male  22.0      1   \n",
       "1  Cumings, Mrs. John Bradley (Florence Briggs Th...  female  38.0      1   \n",
       "2                             Heikkinen, Miss. Laina  female  26.0      0   \n",
       "3       Futrelle, Mrs. Jacques Heath (Lily May Peel)  female  35.0      1   \n",
       "4                           Allen, Mr. William Henry    male  35.0      0   \n",
       "\n",
       "   Parch            Ticket     Fare Cabin Embarked  \n",
       "0      0         A/5 21171   7.2500   NaN        S  \n",
       "1      0          PC 17599  71.2833   C85        C  \n",
       "2      0  STON/O2. 3101282   7.9250   NaN        S  \n",
       "3      0            113803  53.1000  C123        S  \n",
       "4      0            373450   8.0500   NaN        S  "
      ]
     },
     "execution_count": 5,
     "metadata": {},
     "output_type": "execute_result"
    }
   ],
   "source": [
    "df.head()"
   ]
  },
  {
   "cell_type": "code",
   "execution_count": 6,
   "id": "bb5612c5",
   "metadata": {},
   "outputs": [
    {
     "name": "stdout",
     "output_type": "stream",
     "text": [
      "<class 'pandas.core.frame.DataFrame'>\n",
      "RangeIndex: 891 entries, 0 to 890\n",
      "Data columns (total 12 columns):\n",
      " #   Column       Non-Null Count  Dtype  \n",
      "---  ------       --------------  -----  \n",
      " 0   PassengerId  891 non-null    int64  \n",
      " 1   Survived     891 non-null    int64  \n",
      " 2   Pclass       891 non-null    int64  \n",
      " 3   Name         891 non-null    object \n",
      " 4   Sex          891 non-null    object \n",
      " 5   Age          714 non-null    float64\n",
      " 6   SibSp        891 non-null    int64  \n",
      " 7   Parch        891 non-null    int64  \n",
      " 8   Ticket       891 non-null    object \n",
      " 9   Fare         891 non-null    float64\n",
      " 10  Cabin        204 non-null    object \n",
      " 11  Embarked     889 non-null    object \n",
      "dtypes: float64(2), int64(5), object(5)\n",
      "memory usage: 83.7+ KB\n"
     ]
    }
   ],
   "source": [
    "df.info()"
   ]
  },
  {
   "cell_type": "code",
   "execution_count": 7,
   "id": "e817a377",
   "metadata": {},
   "outputs": [
    {
     "data": {
      "text/plain": [
       "PassengerId      0\n",
       "Survived         0\n",
       "Pclass           0\n",
       "Name             0\n",
       "Sex              0\n",
       "Age            177\n",
       "SibSp            0\n",
       "Parch            0\n",
       "Ticket           0\n",
       "Fare             0\n",
       "Cabin          687\n",
       "Embarked         2\n",
       "dtype: int64"
      ]
     },
     "execution_count": 7,
     "metadata": {},
     "output_type": "execute_result"
    }
   ],
   "source": [
    "df.isna().sum()"
   ]
  },
  {
   "cell_type": "code",
   "execution_count": 8,
   "id": "99950c3a",
   "metadata": {},
   "outputs": [],
   "source": [
    "#Select 'Pclass','SibSp','Parch','Fare' columns as data. \n",
    "#Select ‘Survived’ column as label."
   ]
  },
  {
   "cell_type": "code",
   "execution_count": 9,
   "id": "4403edbf",
   "metadata": {},
   "outputs": [],
   "source": [
    "X = df[['Pclass','SibSp','Parch','Fare']]\n",
    "y = df.Survived"
   ]
  },
  {
   "cell_type": "code",
   "execution_count": 10,
   "id": "35739f3c",
   "metadata": {},
   "outputs": [
    {
     "data": {
      "text/html": [
       "<div>\n",
       "<style scoped>\n",
       "    .dataframe tbody tr th:only-of-type {\n",
       "        vertical-align: middle;\n",
       "    }\n",
       "\n",
       "    .dataframe tbody tr th {\n",
       "        vertical-align: top;\n",
       "    }\n",
       "\n",
       "    .dataframe thead th {\n",
       "        text-align: right;\n",
       "    }\n",
       "</style>\n",
       "<table border=\"1\" class=\"dataframe\">\n",
       "  <thead>\n",
       "    <tr style=\"text-align: right;\">\n",
       "      <th></th>\n",
       "      <th>Pclass</th>\n",
       "      <th>SibSp</th>\n",
       "      <th>Parch</th>\n",
       "      <th>Fare</th>\n",
       "    </tr>\n",
       "  </thead>\n",
       "  <tbody>\n",
       "    <tr>\n",
       "      <th>0</th>\n",
       "      <td>3</td>\n",
       "      <td>1</td>\n",
       "      <td>0</td>\n",
       "      <td>7.2500</td>\n",
       "    </tr>\n",
       "    <tr>\n",
       "      <th>1</th>\n",
       "      <td>1</td>\n",
       "      <td>1</td>\n",
       "      <td>0</td>\n",
       "      <td>71.2833</td>\n",
       "    </tr>\n",
       "    <tr>\n",
       "      <th>2</th>\n",
       "      <td>3</td>\n",
       "      <td>0</td>\n",
       "      <td>0</td>\n",
       "      <td>7.9250</td>\n",
       "    </tr>\n",
       "    <tr>\n",
       "      <th>3</th>\n",
       "      <td>1</td>\n",
       "      <td>1</td>\n",
       "      <td>0</td>\n",
       "      <td>53.1000</td>\n",
       "    </tr>\n",
       "    <tr>\n",
       "      <th>4</th>\n",
       "      <td>3</td>\n",
       "      <td>0</td>\n",
       "      <td>0</td>\n",
       "      <td>8.0500</td>\n",
       "    </tr>\n",
       "  </tbody>\n",
       "</table>\n",
       "</div>"
      ],
      "text/plain": [
       "   Pclass  SibSp  Parch     Fare\n",
       "0       3      1      0   7.2500\n",
       "1       1      1      0  71.2833\n",
       "2       3      0      0   7.9250\n",
       "3       1      1      0  53.1000\n",
       "4       3      0      0   8.0500"
      ]
     },
     "execution_count": 10,
     "metadata": {},
     "output_type": "execute_result"
    }
   ],
   "source": [
    "X.head()"
   ]
  },
  {
   "cell_type": "code",
   "execution_count": 11,
   "id": "bee1fe4e",
   "metadata": {},
   "outputs": [
    {
     "data": {
      "text/plain": [
       "0    0\n",
       "1    1\n",
       "2    1\n",
       "3    1\n",
       "4    0\n",
       "Name: Survived, dtype: int64"
      ]
     },
     "execution_count": 11,
     "metadata": {},
     "output_type": "execute_result"
    }
   ],
   "source": [
    "y.head()"
   ]
  },
  {
   "cell_type": "code",
   "execution_count": 12,
   "id": "722d3e39",
   "metadata": {},
   "outputs": [
    {
     "data": {
      "text/plain": [
       "0    549\n",
       "1    342\n",
       "Name: Survived, dtype: int64"
      ]
     },
     "execution_count": 12,
     "metadata": {},
     "output_type": "execute_result"
    }
   ],
   "source": [
    "y.value_counts()"
   ]
  },
  {
   "cell_type": "code",
   "execution_count": 13,
   "id": "2b1f9c2e",
   "metadata": {},
   "outputs": [],
   "source": [
    "#train test split"
   ]
  },
  {
   "cell_type": "code",
   "execution_count": 14,
   "id": "fc215e10",
   "metadata": {},
   "outputs": [],
   "source": [
    "X_train, X_test, y_train, y_test = train_test_split(X, y, test_size=0.25)"
   ]
  },
  {
   "cell_type": "code",
   "execution_count": null,
   "id": "f375669a",
   "metadata": {},
   "outputs": [],
   "source": []
  },
  {
   "cell_type": "code",
   "execution_count": 15,
   "id": "875f9811",
   "metadata": {},
   "outputs": [],
   "source": [
    "#Apply SVM to classify the data."
   ]
  },
  {
   "cell_type": "code",
   "execution_count": 16,
   "id": "b1b4cf49",
   "metadata": {},
   "outputs": [],
   "source": [
    "model = SVC(C=10, gamma=0.0001,kernel='rbf')\n",
    "\n",
    "model.fit(X_train, y_train)\n",
    "\n",
    "y_pred = model.predict(X_test)\n"
   ]
  },
  {
   "cell_type": "code",
   "execution_count": 17,
   "id": "a2828ceb",
   "metadata": {},
   "outputs": [
    {
     "data": {
      "text/plain": [
       "array([0, 0, 0, 0, 0, 0, 0, 0, 0, 1, 0, 0, 0, 0, 0, 1, 0, 0, 0, 0, 0, 0,\n",
       "       0, 0, 0, 0, 0, 1, 1, 0, 0, 0, 0, 0, 0, 0, 0, 0, 0, 0, 1, 0, 0, 0,\n",
       "       0, 0, 1, 0, 0, 0, 0, 0, 0, 0, 0, 0, 0, 0, 0, 0, 0, 0, 0, 0, 0, 0,\n",
       "       0, 0, 0, 0, 1, 0, 1, 0, 1, 0, 0, 0, 0, 0, 0, 0, 0, 0, 0, 0, 0, 0,\n",
       "       0, 1, 1, 1, 0, 0, 0, 1, 0, 0, 1, 0, 0, 0, 0, 0, 0, 0, 0, 0, 0, 1,\n",
       "       0, 0, 0, 0, 0, 0, 0, 0, 0, 0, 0, 0, 0, 0, 0, 0, 0, 0, 0, 0, 0, 0,\n",
       "       0, 0, 0, 0, 0, 0, 1, 0, 0, 0, 0, 0, 0, 0, 0, 0, 1, 0, 0, 0, 0, 0,\n",
       "       0, 0, 0, 1, 1, 1, 0, 1, 0, 0, 0, 0, 0, 0, 0, 0, 0, 0, 0, 0, 1, 1,\n",
       "       0, 0, 0, 0, 0, 0, 1, 0, 0, 0, 0, 0, 0, 1, 0, 0, 0, 1, 0, 0, 1, 0,\n",
       "       0, 0, 0, 0, 1, 0, 0, 1, 0, 0, 0, 0, 1, 0, 0, 0, 0, 0, 0, 0, 0, 0,\n",
       "       0, 0, 0], dtype=int64)"
      ]
     },
     "execution_count": 17,
     "metadata": {},
     "output_type": "execute_result"
    }
   ],
   "source": [
    "y_pred"
   ]
  },
  {
   "cell_type": "code",
   "execution_count": 18,
   "id": "9318fede",
   "metadata": {},
   "outputs": [
    {
     "data": {
      "text/plain": [
       "0.6457399103139013"
      ]
     },
     "execution_count": 18,
     "metadata": {},
     "output_type": "execute_result"
    }
   ],
   "source": [
    "accuracy_score(y_test, y_pred)"
   ]
  },
  {
   "cell_type": "code",
   "execution_count": 19,
   "id": "c86e9446",
   "metadata": {},
   "outputs": [
    {
     "name": "stdout",
     "output_type": "stream",
     "text": [
      "              precision    recall  f1-score   support\n",
      "\n",
      "           0       0.61      0.97      0.75       122\n",
      "           1       0.87      0.26      0.40       101\n",
      "\n",
      "    accuracy                           0.65       223\n",
      "   macro avg       0.74      0.61      0.57       223\n",
      "weighted avg       0.73      0.65      0.59       223\n",
      "\n"
     ]
    }
   ],
   "source": [
    "print(classification_report(y_test,y_pred))"
   ]
  },
  {
   "cell_type": "code",
   "execution_count": 20,
   "id": "ddbc4cca",
   "metadata": {},
   "outputs": [],
   "source": [
    "#it shows that acuracy is only 65%."
   ]
  },
  {
   "cell_type": "code",
   "execution_count": null,
   "id": "d2009502",
   "metadata": {},
   "outputs": [],
   "source": []
  },
  {
   "cell_type": "code",
   "execution_count": null,
   "id": "dd32a11a",
   "metadata": {},
   "outputs": [],
   "source": []
  },
  {
   "cell_type": "code",
   "execution_count": 21,
   "id": "37cde52f",
   "metadata": {},
   "outputs": [],
   "source": [
    "#Use 5-Fold Cross Validation to generalise the model accuracy"
   ]
  },
  {
   "cell_type": "code",
   "execution_count": 22,
   "id": "68fbf3ad",
   "metadata": {},
   "outputs": [
    {
     "name": "stdout",
     "output_type": "stream",
     "text": [
      "Cross Validation Scores are [0.62011173 0.66853933 0.66853933 0.66292135 0.70786517]\n",
      "Average Cross Validation score :0.6655953800765803\n"
     ]
    }
   ],
   "source": [
    "model = svm.SVC()\n",
    "kf=KFold(n_splits=5)\n",
    "score=cross_val_score(model,X,y,cv=kf)\n",
    "print(\"Cross Validation Scores are {}\".format(score))\n",
    "print(\"Average Cross Validation score :{}\".format(score.mean()))"
   ]
  },
  {
   "cell_type": "code",
   "execution_count": null,
   "id": "ff6f39ff",
   "metadata": {},
   "outputs": [],
   "source": []
  },
  {
   "cell_type": "code",
   "execution_count": 23,
   "id": "26493fea",
   "metadata": {},
   "outputs": [],
   "source": [
    "#Use random search and hyperopt packages to identify the best possible SVM model from\n",
    "#the following search space.\n",
    "#'C': [0.1, 1, 10, 100, 1000],\n",
    "#'gamma': [1, 0.1, 0.01, 0.001, 0.0001],\n",
    "#'kernel': ['rbf']"
   ]
  },
  {
   "cell_type": "code",
   "execution_count": null,
   "id": "19618930",
   "metadata": {},
   "outputs": [],
   "source": [
    "#RANDOM SEARCH"
   ]
  },
  {
   "cell_type": "code",
   "execution_count": 24,
   "id": "e89b0fe2",
   "metadata": {},
   "outputs": [],
   "source": [
    "# defining parameter range\n",
    "param_random = {'C': [0.1, 1, 10, 100, 1000], \n",
    "              'gamma': [1, 0.1, 0.01, 0.001, 0.0001],\n",
    "              'kernel': ['rbf']} "
   ]
  },
  {
   "cell_type": "code",
   "execution_count": 25,
   "id": "1b8347f2",
   "metadata": {},
   "outputs": [
    {
     "name": "stdout",
     "output_type": "stream",
     "text": [
      "Fitting 5 folds for each of 20 candidates, totalling 100 fits\n",
      "Best Score:  71.69790147009314\n",
      "Best Params:  {'kernel': 'rbf', 'gamma': 0.1, 'C': 100}\n"
     ]
    }
   ],
   "source": [
    "random_search=RandomizedSearchCV(estimator = SVC(), param_distributions=param_random,verbose=1, n_jobs=-1,\n",
    "                            n_iter=20)\n",
    "random_result = random_search.fit(X_train, y_train)\n",
    "print('Best Score: ', random_result.best_score_*100)\n",
    "print('Best Params: ', random_result.best_params_)"
   ]
  },
  {
   "cell_type": "code",
   "execution_count": null,
   "id": "de753d95",
   "metadata": {},
   "outputs": [],
   "source": []
  },
  {
   "cell_type": "code",
   "execution_count": 26,
   "id": "f9a6d139",
   "metadata": {},
   "outputs": [],
   "source": [
    "#HYPEROPT"
   ]
  },
  {
   "cell_type": "code",
   "execution_count": 27,
   "id": "c829e4b9",
   "metadata": {},
   "outputs": [
    {
     "name": "stdout",
     "output_type": "stream",
     "text": [
      "Requirement already satisfied: hyperopt in c:\\users\\jines\\anaconda3\\lib\\site-packages (0.2.7)\n",
      "Requirement already satisfied: networkx>=2.2 in c:\\users\\jines\\anaconda3\\lib\\site-packages (from hyperopt) (2.7.1)\n",
      "Requirement already satisfied: tqdm in c:\\users\\jines\\anaconda3\\lib\\site-packages (from hyperopt) (4.64.0)\n",
      "Requirement already satisfied: cloudpickle in c:\\users\\jines\\anaconda3\\lib\\site-packages (from hyperopt) (2.0.0)\n",
      "Requirement already satisfied: py4j in c:\\users\\jines\\anaconda3\\lib\\site-packages (from hyperopt) (0.10.9.7)\n",
      "Requirement already satisfied: future in c:\\users\\jines\\anaconda3\\lib\\site-packages (from hyperopt) (0.18.2)\n",
      "Requirement already satisfied: six in c:\\users\\jines\\anaconda3\\lib\\site-packages (from hyperopt) (1.16.0)\n",
      "Requirement already satisfied: scipy in c:\\users\\jines\\anaconda3\\lib\\site-packages (from hyperopt) (1.7.3)\n",
      "Requirement already satisfied: numpy in c:\\users\\jines\\anaconda3\\lib\\site-packages (from hyperopt) (1.21.5)\n",
      "Requirement already satisfied: colorama in c:\\users\\jines\\anaconda3\\lib\\site-packages (from tqdm->hyperopt) (0.4.4)\n",
      "Note: you may need to restart the kernel to use updated packages.\n"
     ]
    }
   ],
   "source": [
    "pip install hyperopt"
   ]
  },
  {
   "cell_type": "code",
   "execution_count": 36,
   "id": "e3729c68",
   "metadata": {},
   "outputs": [],
   "source": [
    "\n",
    "space= {'C': hp.choice('C', [0.1, 1, 10, 100, 1000]), \n",
    "              'gamma': hp.choice('gamma', [1, 0.1, 0.01, 0.001, 0.0001]),\n",
    "              'kernel':  hp.choice('kernel', ['rbf'])} "
   ]
  },
  {
   "cell_type": "code",
   "execution_count": 37,
   "id": "537dd8d6",
   "metadata": {},
   "outputs": [],
   "source": [
    "# define objective function\n",
    "\n",
    "def hyperparameter_tuning(params):\n",
    "    clf = SVC(**params)\n",
    "    acc = cross_val_score(clf, X_train, y_train,scoring=\"accuracy\").mean()\n",
    "    return {\"loss\": -acc, \"status\": STATUS_OK}"
   ]
  },
  {
   "cell_type": "code",
   "execution_count": 38,
   "id": "808426f6",
   "metadata": {},
   "outputs": [
    {
     "name": "stdout",
     "output_type": "stream",
     "text": [
      "100%|███████████████████████████████████████████████| 50/50 [00:31<00:00,  1.58trial/s, best loss: -0.7169790147009314]\n",
      "Best: {'C': 3, 'gamma': 1, 'kernel': 0}\n"
     ]
    }
   ],
   "source": [
    "\n",
    "# Initialize trials object\n",
    "trials = Trials()\n",
    "\n",
    "best = fmin(\n",
    "    fn=hyperparameter_tuning,\n",
    "    space = space, \n",
    "    algo=tpe.suggest, \n",
    "    max_evals=50, \n",
    "    trials=trials\n",
    ")\n",
    "\n",
    "print(\"Best: {}\".format(best))"
   ]
  },
  {
   "cell_type": "code",
   "execution_count": 31,
   "id": "fe940a3a",
   "metadata": {},
   "outputs": [
    {
     "data": {
      "text/plain": [
       "[{'loss': -0.6661429693637079, 'status': 'ok'},\n",
       " {'loss': -0.6766019526428011, 'status': 'ok'},\n",
       " {'loss': -0.6392211872965997, 'status': 'ok'},\n",
       " {'loss': -0.6855459544383345, 'status': 'ok'},\n",
       " {'loss': -0.7140051621591291, 'status': 'ok'},\n",
       " {'loss': -0.6661429693637079, 'status': 'ok'},\n",
       " {'loss': -0.6750645269891147, 'status': 'ok'},\n",
       " {'loss': -0.6855459544383345, 'status': 'ok'},\n",
       " {'loss': -0.7169790147009314, 'status': 'ok'},\n",
       " {'loss': -0.6735944338458086, 'status': 'ok'},\n",
       " {'loss': -0.6392211872965997, 'status': 'ok'},\n",
       " {'loss': -0.6661429693637079, 'status': 'ok'},\n",
       " {'loss': -0.6720570081921221, 'status': 'ok'},\n",
       " {'loss': -0.6676242845920772, 'status': 'ok'},\n",
       " {'loss': -0.6810795645830996, 'status': 'ok'},\n",
       " {'loss': -0.7020424194815396, 'status': 'ok'},\n",
       " {'loss': -0.6392099652115363, 'status': 'ok'},\n",
       " {'loss': -0.6750645269891147, 'status': 'ok'},\n",
       " {'loss': -0.6766019526428011, 'status': 'ok'},\n",
       " {'loss': -0.6676242845920772, 'status': 'ok'},\n",
       " {'loss': -0.7169790147009314, 'status': 'ok'},\n",
       " {'loss': -0.7169790147009314, 'status': 'ok'},\n",
       " {'loss': -0.7169790147009314, 'status': 'ok'},\n",
       " {'loss': -0.7169790147009314, 'status': 'ok'},\n",
       " {'loss': -0.7169790147009314, 'status': 'ok'},\n",
       " {'loss': -0.7169790147009314, 'status': 'ok'},\n",
       " {'loss': -0.7169790147009314, 'status': 'ok'},\n",
       " {'loss': -0.7169790147009314, 'status': 'ok'},\n",
       " {'loss': -0.7169790147009314, 'status': 'ok'},\n",
       " {'loss': -0.7169790147009314, 'status': 'ok'},\n",
       " {'loss': -0.7169790147009314, 'status': 'ok'},\n",
       " {'loss': -0.7035237347099091, 'status': 'ok'},\n",
       " {'loss': -0.6855683986084614, 'status': 'ok'},\n",
       " {'loss': -0.6945011783189315, 'status': 'ok'},\n",
       " {'loss': -0.7110088654472001, 'status': 'ok'},\n",
       " {'loss': -0.6690719335652564, 'status': 'ok'},\n",
       " {'loss': -0.6720570081921221, 'status': 'ok'},\n",
       " {'loss': -0.7169790147009314, 'status': 'ok'},\n",
       " {'loss': -0.6855683986084614, 'status': 'ok'},\n",
       " {'loss': -0.7169790147009314, 'status': 'ok'},\n",
       " {'loss': -0.6855459544383345, 'status': 'ok'},\n",
       " {'loss': -0.7035237347099091, 'status': 'ok'},\n",
       " {'loss': -0.6810795645830996, 'status': 'ok'},\n",
       " {'loss': -0.6825272135562788, 'status': 'ok'},\n",
       " {'loss': -0.6945011783189315, 'status': 'ok'},\n",
       " {'loss': -0.6750645269891147, 'status': 'ok'},\n",
       " {'loss': -0.6661429693637079, 'status': 'ok'},\n",
       " {'loss': -0.7110088654472001, 'status': 'ok'},\n",
       " {'loss': -0.6690719335652564, 'status': 'ok'},\n",
       " {'loss': -0.6676242845920772, 'status': 'ok'}]"
      ]
     },
     "execution_count": 31,
     "metadata": {},
     "output_type": "execute_result"
    }
   ],
   "source": [
    "trials.results"
   ]
  },
  {
   "cell_type": "code",
   "execution_count": 32,
   "id": "ab278936",
   "metadata": {},
   "outputs": [
    {
     "data": {
      "text/plain": [
       "[-0.6661429693637079,\n",
       " -0.6766019526428011,\n",
       " -0.6392211872965997,\n",
       " -0.6855459544383345,\n",
       " -0.7140051621591291,\n",
       " -0.6661429693637079,\n",
       " -0.6750645269891147,\n",
       " -0.6855459544383345,\n",
       " -0.7169790147009314,\n",
       " -0.6735944338458086,\n",
       " -0.6392211872965997,\n",
       " -0.6661429693637079,\n",
       " -0.6720570081921221,\n",
       " -0.6676242845920772,\n",
       " -0.6810795645830996,\n",
       " -0.7020424194815396,\n",
       " -0.6392099652115363,\n",
       " -0.6750645269891147,\n",
       " -0.6766019526428011,\n",
       " -0.6676242845920772,\n",
       " -0.7169790147009314,\n",
       " -0.7169790147009314,\n",
       " -0.7169790147009314,\n",
       " -0.7169790147009314,\n",
       " -0.7169790147009314,\n",
       " -0.7169790147009314,\n",
       " -0.7169790147009314,\n",
       " -0.7169790147009314,\n",
       " -0.7169790147009314,\n",
       " -0.7169790147009314,\n",
       " -0.7169790147009314,\n",
       " -0.7035237347099091,\n",
       " -0.6855683986084614,\n",
       " -0.6945011783189315,\n",
       " -0.7110088654472001,\n",
       " -0.6690719335652564,\n",
       " -0.6720570081921221,\n",
       " -0.7169790147009314,\n",
       " -0.6855683986084614,\n",
       " -0.7169790147009314,\n",
       " -0.6855459544383345,\n",
       " -0.7035237347099091,\n",
       " -0.6810795645830996,\n",
       " -0.6825272135562788,\n",
       " -0.6945011783189315,\n",
       " -0.6750645269891147,\n",
       " -0.6661429693637079,\n",
       " -0.7110088654472001,\n",
       " -0.6690719335652564,\n",
       " -0.6676242845920772]"
      ]
     },
     "execution_count": 32,
     "metadata": {},
     "output_type": "execute_result"
    }
   ],
   "source": [
    "trials.losses()"
   ]
  },
  {
   "cell_type": "code",
   "execution_count": null,
   "id": "2559fe4d",
   "metadata": {},
   "outputs": [],
   "source": [
    "##acuracy in SVM is only 65%."
   ]
  },
  {
   "cell_type": "code",
   "execution_count": 33,
   "id": "f7848f18",
   "metadata": {},
   "outputs": [],
   "source": [
    "#Cross Validation Scores in 5 fold cross validation [0.62011173 0.66853933 0.66853933 0.66292135 0.70786517]\n",
    "#Average Cross Validation score in 5 fold cross validation :0.6655953800765803"
   ]
  },
  {
   "cell_type": "code",
   "execution_count": 34,
   "id": "c2bf7494",
   "metadata": {},
   "outputs": [],
   "source": [
    " #Best possible model svm model in random search:  {'kernel': 'rbf', 'gamma': 0.1, 'C': 100}"
   ]
  },
  {
   "cell_type": "code",
   "execution_count": 35,
   "id": "a95cc621",
   "metadata": {},
   "outputs": [],
   "source": [
    "# #best possible SVM model from hyperopt:\n",
    "#Best: Best: {'C': 3, 'gamma': 1, 'kernel': 0}"
   ]
  },
  {
   "cell_type": "code",
   "execution_count": null,
   "id": "be3c6c05",
   "metadata": {},
   "outputs": [],
   "source": []
  }
 ],
 "metadata": {
  "kernelspec": {
   "display_name": "Python 3 (ipykernel)",
   "language": "python",
   "name": "python3"
  },
  "language_info": {
   "codemirror_mode": {
    "name": "ipython",
    "version": 3
   },
   "file_extension": ".py",
   "mimetype": "text/x-python",
   "name": "python",
   "nbconvert_exporter": "python",
   "pygments_lexer": "ipython3",
   "version": "3.9.12"
  }
 },
 "nbformat": 4,
 "nbformat_minor": 5
}
